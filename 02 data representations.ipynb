{
 "cells": [
  {
   "cell_type": "code",
   "execution_count": 1,
   "metadata": {
    "collapsed": true
   },
   "outputs": [],
   "source": [
    "import numpy as np"
   ]
  },
  {
   "cell_type": "code",
   "execution_count": 13,
   "metadata": {},
   "outputs": [
    {
     "name": "stdout",
     "output_type": "stream",
     "text": [
      "12\n",
      "0\n",
      "[12]\n",
      "1\n",
      "[ 0.84559136  0.23178726]\n",
      "1\n",
      "[[ 0.38013449  0.60121434]]\n",
      "2\n",
      "(1, 2)\n",
      "3\n",
      "(10, 28, 28)\n",
      "float64\n"
     ]
    }
   ],
   "source": [
    "x = np.array(12)\n",
    "print(x)\n",
    "print(x.ndim)\n",
    "\n",
    "x = np.array([12])\n",
    "print(x)\n",
    "print(x.ndim)\n",
    "\n",
    "x = np.random.random((2,))\n",
    "print(x)\n",
    "print(x.ndim)\n",
    "\n",
    "x = np.random.random((1, 2))\n",
    "print(x)\n",
    "print(x.ndim)\n",
    "print(x.shape)\n",
    "\n",
    "x = np.random.random((10, 28, 28))\n",
    "print(x.ndim)\n",
    "print(x.shape)\n",
    "print(x.dtype)\n",
    "# x = x.astype('int')\n",
    "# print(x.dtype)"
   ]
  },
  {
   "cell_type": "code",
   "execution_count": 14,
   "metadata": {
    "collapsed": true
   },
   "outputs": [],
   "source": [
    "# vector data (samples, features)\n",
    "# time series (samples, timesteps, features)\n",
    "# images (samples, height, width, channels (red, green, blue for ex))\n",
    "# videos (samples, frames, height, width, channels)"
   ]
  },
  {
   "cell_type": "code",
   "execution_count": 17,
   "metadata": {},
   "outputs": [
    {
     "name": "stdout",
     "output_type": "stream",
     "text": [
      "Error:0.496410031903\n",
      "Error:0.00858452565325\n",
      "Error:0.00578945986251\n",
      "Error:0.00462917677677\n",
      "Error:0.00395876528027\n",
      "Error:0.00351012256786\n"
     ]
    }
   ],
   "source": [
    "def nonlin(x,deriv=False):\n",
    "    if(deriv==True):\n",
    "        return x*(1-x)\n",
    "\n",
    "    return 1/(1+np.exp(-x))\n",
    "    \n",
    "X = np.array([[0,0,1],\n",
    "            [0,1,1],\n",
    "            [1,0,1],\n",
    "            [1,1,1]])\n",
    "                \n",
    "y = np.array([[0],\n",
    "            [1],\n",
    "            [1],\n",
    "            [0]])\n",
    "\n",
    "np.random.seed(1)\n",
    "\n",
    "# randomly initialize our weights with mean 0\n",
    "syn0 = 2*np.random.random((3,4)) - 1\n",
    "syn1 = 2*np.random.random((4,1)) - 1\n",
    "\n",
    "for j in range(60000):\n",
    "\n",
    "    # Feed forward through layers 0, 1, and 2\n",
    "    k0 = X\n",
    "    k1 = nonlin(np.dot(k0,syn0))\n",
    "    k2 = nonlin(np.dot(k1,syn1))\n",
    "\n",
    "    # how much did we miss the target value?\n",
    "    k2_error = y - k2\n",
    "\n",
    "    if (j% 10000) == 0:\n",
    "        print(\"Error:\" + str(np.mean(np.abs(k2_error))))\n",
    "        \n",
    "    # in what direction is the target value?\n",
    "    # were we really sure? if so, don't change too much.\n",
    "    k2_delta = k2_error*nonlin(k2,deriv=True)\n",
    "\n",
    "    # how much did each k1 value contribute to the k2 error (according to the weights)?\n",
    "    k1_error = k2_delta.dot(syn1.T)\n",
    "    \n",
    "    # in what direction is the target k1?\n",
    "    # were we really sure? if so, don't change too much.\n",
    "    k1_delta = k1_error * nonlin(k1,deriv=True)\n",
    "\n",
    "    syn1 += k1.T.dot(k2_delta)\n",
    "    syn0 += k0.T.dot(k1_delta)"
   ]
  },
  {
   "cell_type": "code",
   "execution_count": null,
   "metadata": {
    "collapsed": true
   },
   "outputs": [],
   "source": []
  }
 ],
 "metadata": {
  "kernelspec": {
   "display_name": "Python 3",
   "language": "python",
   "name": "python3"
  },
  "language_info": {
   "codemirror_mode": {
    "name": "ipython",
    "version": 3
   },
   "file_extension": ".py",
   "mimetype": "text/x-python",
   "name": "python",
   "nbconvert_exporter": "python",
   "pygments_lexer": "ipython3",
   "version": "3.6.3"
  }
 },
 "nbformat": 4,
 "nbformat_minor": 2
}
